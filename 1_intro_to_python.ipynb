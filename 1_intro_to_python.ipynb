{
  "metadata": {
    "language_info": {
      "codemirror_mode": {
        "name": "python",
        "version": 3
      },
      "file_extension": ".py",
      "mimetype": "text/x-python",
      "name": "python",
      "nbconvert_exporter": "python",
      "pygments_lexer": "ipython3",
      "version": "3.8"
    },
    "kernelspec": {
      "name": "python",
      "display_name": "Pyolite",
      "language": "python"
    }
  },
  "nbformat_minor": 4,
  "nbformat": 4,
  "cells": [
    {
      "cell_type": "markdown",
      "source": "# Introduction to Python",
      "metadata": {}
    },
    {
      "cell_type": "markdown",
      "source": "#### We are using Jupyter notebook to write code",
      "metadata": {}
    },
    {
      "cell_type": "markdown",
      "source": "#### Each block of code is called a cell. To run a cell you can press shift enter or click the play button ▶️ on the top left.",
      "metadata": {}
    },
    {
      "cell_type": "markdown",
      "source": "Cell could be markdown like this cell or a code cell like the cell that has print(\"Hello world\"). Markdown cells are used to write documentation.",
      "metadata": {}
    },
    {
      "cell_type": "markdown",
      "source": "## Now lets use the print command to print a string",
      "metadata": {}
    },
    {
      "cell_type": "code",
      "source": "# This is a code cell. Hash symbol\"#' is used for comments.\nprint(\"Hello world\")",
      "metadata": {
        "trusted": true
      },
      "execution_count": 24,
      "outputs": [
        {
          "name": "stdout",
          "text": "Hello world\n",
          "output_type": "stream"
        }
      ]
    },
    {
      "cell_type": "markdown",
      "source": "## Variables. Let us assign the integer 10 to variable a and 5 to variable b.",
      "metadata": {}
    },
    {
      "cell_type": "code",
      "source": "a = 10\nb = 5",
      "metadata": {
        "trusted": true
      },
      "execution_count": 12,
      "outputs": []
    },
    {
      "cell_type": "markdown",
      "source": "### Let us add a and b and store the result in variable c.",
      "metadata": {}
    },
    {
      "cell_type": "code",
      "source": "c = a + b",
      "metadata": {
        "trusted": true
      },
      "execution_count": 13,
      "outputs": []
    },
    {
      "cell_type": "markdown",
      "source": "### Now we are going to print the results.",
      "metadata": {}
    },
    {
      "cell_type": "code",
      "source": "print (\" a + b = \", c)",
      "metadata": {
        "trusted": true
      },
      "execution_count": 14,
      "outputs": [
        {
          "name": "stdout",
          "text": " a + b =  15\n",
          "output_type": "stream"
        }
      ]
    },
    {
      "cell_type": "markdown",
      "source": "## Functions",
      "metadata": {}
    },
    {
      "cell_type": "markdown",
      "source": "A group of code lines that does a specific job.",
      "metadata": {}
    },
    {
      "cell_type": "markdown",
      "source": "Let us create a function that will take in 2 integers and returns the sum of those integers. ",
      "metadata": {}
    },
    {
      "cell_type": "code",
      "source": "def add_integer(first_integer, second_integer):\n    final_sum = first_integer + second_integer\n    return final_sum",
      "metadata": {
        "trusted": true
      },
      "execution_count": 28,
      "outputs": []
    },
    {
      "cell_type": "markdown",
      "source": "Now we are going to use the add_integer function to add a and b.",
      "metadata": {}
    },
    {
      "cell_type": "code",
      "source": "answer = add_integer(a,b)",
      "metadata": {},
      "execution_count": null,
      "outputs": []
    },
    {
      "cell_type": "markdown",
      "source": "Print the answer and verify that the result is correct.",
      "metadata": {}
    },
    {
      "cell_type": "code",
      "source": "print (answer)",
      "metadata": {
        "trusted": true
      },
      "execution_count": 30,
      "outputs": [
        {
          "name": "stdout",
          "text": "15\n",
          "output_type": "stream"
        }
      ]
    },
    {
      "cell_type": "markdown",
      "source": "Try adding other integers",
      "metadata": {}
    },
    {
      "cell_type": "code",
      "source": "print(add_integer(56 , 44))",
      "metadata": {
        "trusted": true
      },
      "execution_count": 32,
      "outputs": [
        {
          "name": "stdout",
          "text": "100\n",
          "output_type": "stream"
        }
      ]
    },
    {
      "cell_type": "markdown",
      "source": "## Assignment No 1",
      "metadata": {}
    },
    {
      "cell_type": "markdown",
      "source": "#### Calculate the are of a circle with a radius of 5 cm. \n#### Hints:\n#### Create a variable radius and assing the integer value 5 to it. \n#### Create a variable area and assign the formula for calculating area of the circle. \n#### Finally print the area of the circle. \n",
      "metadata": {}
    },
    {
      "cell_type": "code",
      "source": "# Importing the math library. \n# To learn functions available in the python math library visit - https://www.w3schools.com/python/module_math.asp\nimport math ",
      "metadata": {
        "trusted": true
      },
      "execution_count": 25,
      "outputs": []
    },
    {
      "cell_type": "code",
      "source": "pi = math.pi\nprint(pi)",
      "metadata": {
        "trusted": true
      },
      "execution_count": 27,
      "outputs": [
        {
          "name": "stdout",
          "text": "3.141592653589793\n",
          "output_type": "stream"
        }
      ]
    },
    {
      "cell_type": "markdown",
      "source": "### a ** b will return a raised to power b as output.",
      "metadata": {}
    },
    {
      "cell_type": "code",
      "source": "# Declaring the number.\nn = 4\n \n# Finding square by using exponent operator\n# This will yield n power 2 i.e. square of n\nsquare = n ** 2\n \n# Printing square\nprint(square)",
      "metadata": {
        "trusted": true
      },
      "execution_count": 33,
      "outputs": [
        {
          "name": "stdout",
          "text": "16\n",
          "output_type": "stream"
        }
      ]
    },
    {
      "cell_type": "code",
      "source": "",
      "metadata": {},
      "execution_count": null,
      "outputs": []
    },
    {
      "cell_type": "markdown",
      "source": "## Assignment No 2",
      "metadata": {}
    },
    {
      "cell_type": "markdown",
      "source": "Create a function that will take the radius and return the area of circle.",
      "metadata": {}
    },
    {
      "cell_type": "code",
      "source": "",
      "metadata": {},
      "execution_count": null,
      "outputs": []
    }
  ]
}